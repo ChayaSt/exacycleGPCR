{
 "metadata": {
  "name": "",
  "signature": "sha256:0704a3eff56c1d942b3cc25df5a63d7ebd5e370359202316c87f5b19ba4b2196"
 },
 "nbformat": 3,
 "nbformat_minor": 0,
 "worksheets": []
}