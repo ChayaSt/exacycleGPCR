{
 "metadata": {
  "name": "",
  "signature": "sha256:0d7aded1890c320670fd35f65912a84bd593eaff3dcb7fe58200003bdd29a834"
 },
 "nbformat": 3,
 "nbformat_minor": 0,
 "worksheets": [
  {
   "cells": [
    {
     "cell_type": "code",
     "collapsed": false,
     "input": [
      "%matplotlib inline\n",
      "import mdtraj.io as io\n",
      "import numpy as np\n",
      "import matplotlib.pyplot as plt"
     ],
     "language": "python",
     "metadata": {},
     "outputs": [],
     "prompt_number": 1
    },
    {
     "cell_type": "code",
     "collapsed": false,
     "input": [
      "assignments=io.loadh('Data/Assignments.h5')"
     ],
     "language": "python",
     "metadata": {},
     "outputs": [],
     "prompt_number": 2
    },
    {
     "cell_type": "code",
     "collapsed": false,
     "input": [
      "assignmentsFixed=io.loadh('Data/Assignments.Fixed.h5')"
     ],
     "language": "python",
     "metadata": {},
     "outputs": [],
     "prompt_number": 3
    },
    {
     "cell_type": "code",
     "collapsed": false,
     "input": [
      "assignments['arr_0']"
     ],
     "language": "python",
     "metadata": {},
     "outputs": [
      {
       "metadata": {},
       "output_type": "pyout",
       "prompt_number": 4,
       "text": [
        "array([[ 0,  0,  0, ..., -1, -1, -1],\n",
        "       [ 4,  4,  4, ..., -1, -1, -1],\n",
        "       [ 4,  4,  4, ..., -1, -1, -1],\n",
        "       ..., \n",
        "       [13, 13,  7, ..., -1, -1, -1],\n",
        "       [10, 10, 14, ..., -1, -1, -1],\n",
        "       [10, 10, 10, ..., -1, -1, -1]], dtype=int32)"
       ]
      }
     ],
     "prompt_number": 4
    },
    {
     "cell_type": "code",
     "collapsed": false,
     "input": [
      "assignmentsFixed['arr_0']"
     ],
     "language": "python",
     "metadata": {},
     "outputs": [
      {
       "metadata": {},
       "output_type": "pyout",
       "prompt_number": 5,
       "text": [
        "array([[-1, -1, -1, ..., -1, -1, -1],\n",
        "       [-1, -1, -1, ..., -1, -1, -1],\n",
        "       [-1, -1, -1, ..., -1, -1, -1],\n",
        "       ..., \n",
        "       [ 9,  9,  5, ..., -1, -1, -1],\n",
        "       [ 7,  7, 10, ..., -1, -1, -1],\n",
        "       [ 7,  7,  7, ..., -1, -1, -1]], dtype=int32)"
       ]
      }
     ],
     "prompt_number": 5
    },
    {
     "cell_type": "code",
     "collapsed": false,
     "input": [
      "assignments"
     ],
     "language": "python",
     "metadata": {},
     "outputs": [
      {
       "metadata": {},
       "output_type": "pyout",
       "prompt_number": 6,
       "text": [
        "{\n",
        "  arr_0: [shape=(111, 32), dtype=int32]\n",
        "}"
       ]
      }
     ],
     "prompt_number": 6
    },
    {
     "cell_type": "code",
     "collapsed": false,
     "input": [
      "plt.matshow(assignments['arr_0'])\n",
      "plt.colorbar()"
     ],
     "language": "python",
     "metadata": {},
     "outputs": [
      {
       "metadata": {},
       "output_type": "pyout",
       "prompt_number": 7,
       "text": [
        "<matplotlib.colorbar.Colorbar instance at 0x106e88fc8>"
       ]
      },
      {
       "metadata": {},
       "output_type": "display_data",
       "png": "[encoded data removed]",
       "text": [
        "<matplotlib.figure.Figure at 0x104330950>"
       ]
      }
     ],
     "prompt_number": 7
    },
    {
     "cell_type": "code",
     "collapsed": false,
     "input": [
      "plt.matshow(assignmentsFixed['arr_0'])\n",
      "plt.colorbar()"
     ],
     "language": "python",
     "metadata": {},
     "outputs": [
      {
       "metadata": {},
       "output_type": "pyout",
       "prompt_number": 8,
       "text": [
        "<matplotlib.colorbar.Colorbar instance at 0x107266ea8>"
       ]
      },
      {
       "metadata": {},
       "output_type": "display_data",
       "png": "[encoded data removed]",
       "text": [
        "<matplotlib.figure.Figure at 0x106f56750>"
       ]
      }
     ],
     "prompt_number": 8
    },
    {
     "cell_type": "code",
     "collapsed": false,
     "input": [],
     "language": "python",
     "metadata": {},
     "outputs": []
    }
   ],
   "metadata": {}
  }
 ]
}