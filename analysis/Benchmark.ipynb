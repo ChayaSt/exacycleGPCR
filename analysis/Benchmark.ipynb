{
 "metadata": {
  "name": "",
  "signature": "sha256:c51aea8e0e27cce8fc96b8b3078ba16f9b04a48d3b1a585fb83e1b2022ca9af6"
 },
 "nbformat": 3,
 "nbformat_minor": 0,
 "worksheets": [
  {
   "cells": [
    {
     "cell_type": "code",
     "collapsed": false,
     "input": [
      "import mdtraj as md\n",
      "import time\n",
      "import os\n",
      "from glob import glob"
     ],
     "language": "python",
     "metadata": {},
     "outputs": [],
     "prompt_number": 13
    },
    {
     "cell_type": "code",
     "collapsed": false,
     "input": [
      "APO_B2AR = glob(os.path.expanduser('../apo_b2ar_processed/trj*'))"
     ],
     "language": "python",
     "metadata": {},
     "outputs": [],
     "prompt_number": 4
    },
    {
     "cell_type": "code",
     "collapsed": false,
     "input": [
      "l=[]\n",
      "m=0\n",
      "\n",
      "for k in enumerate(APO_B2AR):\n",
      "    f=md.open(k[1])\n",
      "    l.append(len(f))\n",
      "    if len(f) > m:\n",
      "        m=len(f)\n",
      "        longest=k[1]\n",
      "    f.close()\n",
      "    \n",
      "    "
     ],
     "language": "python",
     "metadata": {},
     "outputs": [],
     "prompt_number": 6
    },
    {
     "cell_type": "code",
     "collapsed": false,
     "input": [
      "longest"
     ],
     "language": "python",
     "metadata": {},
     "outputs": [
      {
       "metadata": {},
       "output_type": "pyout",
       "prompt_number": 7,
       "text": [
        "'../apo_b2ar_processed/trj34519.lh5'"
       ]
      }
     ],
     "prompt_number": 7
    },
    {
     "cell_type": "code",
     "collapsed": false,
     "input": [
      "f=md.load_lh5(longest)"
     ],
     "language": "python",
     "metadata": {},
     "outputs": [],
     "prompt_number": 8
    },
    {
     "cell_type": "code",
     "collapsed": false,
     "input": [
      "f"
     ],
     "language": "python",
     "metadata": {},
     "outputs": [
      {
       "metadata": {},
       "output_type": "pyout",
       "prompt_number": 9,
       "text": [
        "<mdtraj.Trajectory with 84 frames, 2152 atoms, 268 residues, without unitcells at 0x103d93210>"
       ]
      }
     ],
     "prompt_number": 9
    },
    {
     "cell_type": "code",
     "collapsed": false,
     "input": [
      "formats=['.dcd','.xtc','.nc','.trr','.h5','.pdb','.binpos']"
     ],
     "language": "python",
     "metadata": {},
     "outputs": [],
     "prompt_number": 10
    },
    {
     "cell_type": "code",
     "collapsed": false,
     "input": [
      "for ext in formats:\n",
      "    f.save('out%s' % ext)"
     ],
     "language": "python",
     "metadata": {},
     "outputs": [],
     "prompt_number": 11
    },
    {
     "cell_type": "code",
     "collapsed": false,
     "input": [
      "PDB = md.load_pdb('../GPCR_NatureChemistry/reference-structures/apo_snapshot.pdb')\n",
      "for ext in formats:\n",
      "    t1 = time.time()\n",
      "    f = md.load('out%s' %ext, top = PDB)\n",
      "    t2 = time.time()\n",
      "    print ext\n",
      "    print t2-t1\n",
      "    "
     ],
     "language": "python",
     "metadata": {},
     "outputs": [
      {
       "output_type": "stream",
       "stream": "stdout",
       "text": [
        ".dcd\n",
        "0.0012731552124\n",
        ".xtc\n",
        "0.0117580890656\n",
        ".nc\n",
        "0.0165929794312\n",
        ".trr"
       ]
      },
      {
       "output_type": "stream",
       "stream": "stdout",
       "text": [
        "\n",
        "0.0302729606628\n",
        ".h5"
       ]
      },
      {
       "output_type": "stream",
       "stream": "stdout",
       "text": [
        "\n",
        "0.0821108818054\n",
        ".pdb"
       ]
      },
      {
       "output_type": "stream",
       "stream": "stdout",
       "text": [
        "\n",
        "5.07934808731\n",
        ".binpos\n",
        "0.00271201133728\n"
       ]
      }
     ],
     "prompt_number": 17
    },
    {
     "cell_type": "code",
     "collapsed": false,
     "input": [
      "APO_B2AR_DCD = glob(os.path.expanduser('../dcd_trajectories/apo_b2ar/trj*'))"
     ],
     "language": "python",
     "metadata": {},
     "outputs": [],
     "prompt_number": 18
    },
    {
     "cell_type": "code",
     "collapsed": false,
     "input": [
      "t = []\n",
      "for traj in APO_B2AR_DCD:\n",
      "    t1=time.time()\n",
      "    f = md.load(traj, top=PDB)\n",
      "    t2 = time.time()\n",
      "    t.append(t2-t1)\n",
      "    del f\n"
     ],
     "language": "python",
     "metadata": {},
     "outputs": [],
     "prompt_number": 21
    },
    {
     "cell_type": "code",
     "collapsed": false,
     "input": [
      "sum(t)"
     ],
     "language": "python",
     "metadata": {},
     "outputs": [
      {
       "metadata": {},
       "output_type": "pyout",
       "prompt_number": 22,
       "text": [
        "475.148145198822"
       ]
      }
     ],
     "prompt_number": 22
    },
    {
     "cell_type": "code",
     "collapsed": false,
     "input": [
      "sum(t)/60"
     ],
     "language": "python",
     "metadata": {},
     "outputs": [
      {
       "metadata": {},
       "output_type": "pyout",
       "prompt_number": 24,
       "text": [
        "7.9191357533137"
       ]
      }
     ],
     "prompt_number": 24
    },
    {
     "cell_type": "code",
     "collapsed": false,
     "input": [
      "t = []\n",
      "for traj in APO_B2AR:\n",
      "    t1=time.time()\n",
      "    f = md.load(traj)\n",
      "    t2 = time.time()\n",
      "    t.append(t2-t1)\n",
      "    del f\n"
     ],
     "language": "python",
     "metadata": {},
     "outputs": [],
     "prompt_number": 25
    },
    {
     "cell_type": "code",
     "collapsed": false,
     "input": [
      "sum(t)/60"
     ],
     "language": "python",
     "metadata": {},
     "outputs": [
      {
       "metadata": {},
       "output_type": "pyout",
       "prompt_number": 26,
       "text": [
        "33.63569562037786"
       ]
      }
     ],
     "prompt_number": 26
    },
    {
     "cell_type": "code",
     "collapsed": false,
     "input": [],
     "language": "python",
     "metadata": {},
     "outputs": []
    }
   ],
   "metadata": {}
  }
 ]
}