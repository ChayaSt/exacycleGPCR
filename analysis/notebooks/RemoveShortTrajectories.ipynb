{
 "metadata": {
  "name": "",
  "signature": "sha256:49f4ea3fbd5ef9a6bf5b1aacf6d870da12f501156e2729708b422f60b8ee66e1"
 },
 "nbformat": 3,
 "nbformat_minor": 0,
 "worksheets": [
  {
   "cells": [
    {
     "cell_type": "code",
     "collapsed": false,
     "input": [
      "%matplotlib inline\n",
      "import numpy as np\n",
      "import matplotlib.pyplot as plt\n",
      "from mixtape.featurizer import RMSDFeaturizer\n",
      "import mdtraj as md\n",
      "import os\n",
      "from glob import glob"
     ],
     "language": "python",
     "metadata": {},
     "outputs": [],
     "prompt_number": 3
    },
    {
     "cell_type": "code",
     "collapsed": false,
     "input": [
      "cd ../../agonist_b2ar_trajectories/"
     ],
     "language": "python",
     "metadata": {},
     "outputs": [
      {
       "output_type": "stream",
       "stream": "stdout",
       "text": [
        "[Errno 2] No such file or directory: '../../agonist_b2ar_trajectories/'\n",
        "/Users/sternc1/src/choderalab/exacycleGPCR/agonist_b2ar_trajectories\n"
       ]
      }
     ],
     "prompt_number": 4
    },
    {
     "cell_type": "code",
     "collapsed": false,
     "input": [
      "AGONIST_B2AR = glob(os.path.expanduser('trj*'))"
     ],
     "language": "python",
     "metadata": {},
     "outputs": [],
     "prompt_number": 5
    },
    {
     "cell_type": "code",
     "collapsed": false,
     "input": [
      "l=[]\n",
      "\n",
      "for k in enumerate(AGONIST_B2AR):\n",
      "    f=md.open(k[1])\n",
      "    l.append(len(f))\n",
      "    f.close()"
     ],
     "language": "python",
     "metadata": {},
     "outputs": []
    },
    {
     "cell_type": "code",
     "collapsed": false,
     "input": [
      "sym=[]\n",
      "for k in enumerate(l):\n",
      "    if k[1] > 20:\n",
      "        os.symlink('../agonist_b2ar_trajectories/%s' % APO_B2AR[k[0]], '../agonist_b2ar_processed/%s' % APO_B2AR[k[0]])\n",
      "        sym.append(k[1])"
     ],
     "language": "python",
     "metadata": {},
     "outputs": [],
     "prompt_number": 27
    },
    {
     "cell_type": "code",
     "collapsed": false,
     "input": [
      "plt.hist(sym, bins=100)"
     ],
     "language": "python",
     "metadata": {},
     "outputs": [
      {
       "metadata": {},
       "output_type": "pyout",
       "prompt_number": 28,
       "text": [
        "(array([  1.29900000e+03,   2.20700000e+03,   0.00000000e+00,\n",
        "          3.08700000e+03,   4.33100000e+03,   0.00000000e+00,\n",
        "          5.26300000e+03,   5.66700000e+03,   0.00000000e+00,\n",
        "          5.52000000e+03,   0.00000000e+00,   4.72400000e+03,\n",
        "          2.87000000e+03,   0.00000000e+00,   1.13100000e+03,\n",
        "          2.56000000e+02,   0.00000000e+00,   4.50000000e+01,\n",
        "          0.00000000e+00,   4.50000000e+01,   6.00000000e+01,\n",
        "          0.00000000e+00,   1.01000000e+02,   1.31000000e+02,\n",
        "          0.00000000e+00,   2.17000000e+02,   3.53000000e+02,\n",
        "          0.00000000e+00,   4.62000000e+02,   0.00000000e+00,\n",
        "          5.93000000e+02,   5.65000000e+02,   0.00000000e+00,\n",
        "          5.85000000e+02,   4.84000000e+02,   0.00000000e+00,\n",
        "          4.17000000e+02,   0.00000000e+00,   3.26000000e+02,\n",
        "          2.66000000e+02,   0.00000000e+00,   2.01000000e+02,\n",
        "          1.51000000e+02,   0.00000000e+00,   1.15000000e+02,\n",
        "          0.00000000e+00,   6.80000000e+01,   4.50000000e+01,\n",
        "          0.00000000e+00,   2.90000000e+01,   1.20000000e+01,\n",
        "          0.00000000e+00,   6.00000000e+00,   3.00000000e+00,\n",
        "          0.00000000e+00,   5.00000000e+00,   0.00000000e+00,\n",
        "          7.00000000e+00,   1.10000000e+01,   0.00000000e+00,\n",
        "          1.20000000e+01,   2.10000000e+01,   0.00000000e+00,\n",
        "          3.70000000e+01,   0.00000000e+00,   4.30000000e+01,\n",
        "          5.60000000e+01,   0.00000000e+00,   7.60000000e+01,\n",
        "          1.41000000e+02,   0.00000000e+00,   1.88000000e+02,\n",
        "          0.00000000e+00,   2.60000000e+02,   3.54000000e+02,\n",
        "          0.00000000e+00,   4.08000000e+02,   4.55000000e+02,\n",
        "          0.00000000e+00,   4.92000000e+02,   4.45000000e+02,\n",
        "          0.00000000e+00,   4.54000000e+02,   0.00000000e+00,\n",
        "          3.96000000e+02,   3.11000000e+02,   0.00000000e+00,\n",
        "          2.10000000e+02,   1.34000000e+02,   0.00000000e+00,\n",
        "          8.90000000e+01,   0.00000000e+00,   4.80000000e+01,\n",
        "          2.20000000e+01,   0.00000000e+00,   9.00000000e+00,\n",
        "          5.00000000e+00,   0.00000000e+00,   3.00000000e+00,\n",
        "          1.00000000e+00]),\n",
        " array([ 21.  ,  21.63,  22.26,  22.89,  23.52,  24.15,  24.78,  25.41,\n",
        "         26.04,  26.67,  27.3 ,  27.93,  28.56,  29.19,  29.82,  30.45,\n",
        "         31.08,  31.71,  32.34,  32.97,  33.6 ,  34.23,  34.86,  35.49,\n",
        "         36.12,  36.75,  37.38,  38.01,  38.64,  39.27,  39.9 ,  40.53,\n",
        "         41.16,  41.79,  42.42,  43.05,  43.68,  44.31,  44.94,  45.57,\n",
        "         46.2 ,  46.83,  47.46,  48.09,  48.72,  49.35,  49.98,  50.61,\n",
        "         51.24,  51.87,  52.5 ,  53.13,  53.76,  54.39,  55.02,  55.65,\n",
        "         56.28,  56.91,  57.54,  58.17,  58.8 ,  59.43,  60.06,  60.69,\n",
        "         61.32,  61.95,  62.58,  63.21,  63.84,  64.47,  65.1 ,  65.73,\n",
        "         66.36,  66.99,  67.62,  68.25,  68.88,  69.51,  70.14,  70.77,\n",
        "         71.4 ,  72.03,  72.66,  73.29,  73.92,  74.55,  75.18,  75.81,\n",
        "         76.44,  77.07,  77.7 ,  78.33,  78.96,  79.59,  80.22,  80.85,\n",
        "         81.48,  82.11,  82.74,  83.37,  84.  ]),\n",
        " <a list of 100 Patch objects>)"
       ]
      },
      {
       "metadata": {},
       "output_type": "display_data",
       "png": "[encoded data removed]",
       "text": [
        "<matplotlib.figure.Figure at 0x1036b7a10>"
       ]
      }
     ],
     "prompt_number": 28
    },
    {
     "cell_type": "code",
     "collapsed": false,
     "input": [
      "pwd"
     ],
     "language": "python",
     "metadata": {},
     "outputs": [
      {
       "metadata": {},
       "output_type": "pyout",
       "prompt_number": 29,
       "text": [
        "u'/Users/sternc1/src/choderalab/exacycleGPCR/apo_b2ar_trajectories'"
       ]
      }
     ],
     "prompt_number": 29
    },
    {
     "cell_type": "code",
     "collapsed": false,
     "input": [
      "cd .."
     ],
     "language": "python",
     "metadata": {},
     "outputs": [
      {
       "output_type": "stream",
       "stream": "stdout",
       "text": [
        "/Users/sternc1/src/choderalab/exacycleGPCR\n"
       ]
      }
     ],
     "prompt_number": 30
    },
    {
     "cell_type": "code",
     "collapsed": false,
     "input": [
      "mkdir agonist_b2ar_processed"
     ],
     "language": "python",
     "metadata": {},
     "outputs": [
      {
       "output_type": "stream",
       "stream": "stdout",
       "text": [
        "mkdir: agonist_b2ar_processed: File exists\r\n"
       ]
      }
     ],
     "prompt_number": 31
    },
    {
     "cell_type": "code",
     "collapsed": false,
     "input": [
      "cd agonist_b2ar_processed/"
     ],
     "language": "python",
     "metadata": {},
     "outputs": [
      {
       "output_type": "stream",
       "stream": "stdout",
       "text": [
        "/Users/sternc1/src/choderalab/exacycleGPCR/agonist_b2ar_processed\n"
       ]
      }
     ],
     "prompt_number": 32
    },
    {
     "cell_type": "code",
     "collapsed": false,
     "input": [
      "cd ../agonist_b2ar_trajectories/\n"
     ],
     "language": "python",
     "metadata": {},
     "outputs": [
      {
       "output_type": "stream",
       "stream": "stdout",
       "text": [
        "/Users/sternc1/src/choderalab/exacycleGPCR/agonist_b2ar_trajectories\n"
       ]
      }
     ],
     "prompt_number": 33
    },
    {
     "cell_type": "code",
     "collapsed": false,
     "input": [
      "AGONIST_B2AR=glob(os.path.expanduser('trj*'))"
     ],
     "language": "python",
     "metadata": {},
     "outputs": [],
     "prompt_number": 34
    },
    {
     "cell_type": "code",
     "collapsed": false,
     "input": [
      "l2=[]\n",
      "\n",
      "for k in enumerate(AGONIST_B2AR):\n",
      "    f=md.open(k[1])\n",
      "    l2.append(len(f))\n",
      "    f.close()"
     ],
     "language": "python",
     "metadata": {},
     "outputs": [],
     "prompt_number": 35
    },
    {
     "cell_type": "code",
     "collapsed": false,
     "input": [
      "plt.hist(l, bins=50)"
     ],
     "language": "python",
     "metadata": {},
     "outputs": [
      {
       "metadata": {},
       "output_type": "pyout",
       "prompt_number": 25,
       "text": [
        "(array([  1.00000000e+00,   4.00000000e+00,   0.00000000e+00,\n",
        "          1.30000000e+01,   0.00000000e+00,   1.00000000e+01,\n",
        "          3.00000000e+00,   0.00000000e+00,   1.00000000e+00,\n",
        "          0.00000000e+00,   4.00000000e+00,   8.00000000e+00,\n",
        "          0.00000000e+00,   3.50000000e+01,   0.00000000e+00,\n",
        "          9.90000000e+01,   2.28000000e+02,   0.00000000e+00,\n",
        "          3.78000000e+02,   0.00000000e+00,   5.10000000e+02,\n",
        "          4.55000000e+02,   0.00000000e+00,   4.08000000e+02,\n",
        "          0.00000000e+00,   5.39000000e+02,   9.85000000e+02,\n",
        "          0.00000000e+00,   1.82000000e+03,   0.00000000e+00,\n",
        "          2.95200000e+03,   4.19200000e+03,   0.00000000e+00,\n",
        "          5.51600000e+03,   0.00000000e+00,   6.53700000e+03,\n",
        "          6.75800000e+03,   0.00000000e+00,   6.51100000e+03,\n",
        "          0.00000000e+00,   5.45200000e+03,   3.77300000e+03,\n",
        "          0.00000000e+00,   1.93800000e+03,   0.00000000e+00,\n",
        "          6.74000000e+02,   1.63000000e+02,   0.00000000e+00,\n",
        "          3.10000000e+01,   1.00000000e+00]),\n",
        " array([  4. ,   4.6,   5.2,   5.8,   6.4,   7. ,   7.6,   8.2,   8.8,\n",
        "          9.4,  10. ,  10.6,  11.2,  11.8,  12.4,  13. ,  13.6,  14.2,\n",
        "         14.8,  15.4,  16. ,  16.6,  17.2,  17.8,  18.4,  19. ,  19.6,\n",
        "         20.2,  20.8,  21.4,  22. ,  22.6,  23.2,  23.8,  24.4,  25. ,\n",
        "         25.6,  26.2,  26.8,  27.4,  28. ,  28.6,  29.2,  29.8,  30.4,\n",
        "         31. ,  31.6,  32.2,  32.8,  33.4,  34. ]),\n",
        " <a list of 50 Patch objects>)"
       ]
      },
      {
       "metadata": {},
       "output_type": "display_data",
       "png": "[encoded data removed]",
       "text": [
        "<matplotlib.figure.Figure at 0x107653890>"
       ]
      }
     ],
     "prompt_number": 25
    },
    {
     "cell_type": "code",
     "collapsed": false,
     "input": [
      "sym=[]\n",
      "for k in enumerate(l):\n",
      "    if k[1] > 20:\n",
      "        os.symlink(AGONIST_B2AR[k[0]], '../agonist_b2ar_processed/%s' %AGONIST_B2AR[k[0]])\n",
      "        sym.append(k[1])"
     ],
     "language": "python",
     "metadata": {},
     "outputs": [],
     "prompt_number": 26
    },
    {
     "cell_type": "code",
     "collapsed": false,
     "input": [
      "plt.hist(sym, bins=30)"
     ],
     "language": "python",
     "metadata": {},
     "outputs": []
    },
    {
     "cell_type": "code",
     "collapsed": false,
     "input": [
      "len(sym)"
     ],
     "language": "python",
     "metadata": {},
     "outputs": [
      {
       "metadata": {},
       "output_type": "pyout",
       "prompt_number": 28,
       "text": [
        "46318"
       ]
      }
     ],
     "prompt_number": 28
    },
    {
     "cell_type": "code",
     "collapsed": false,
     "input": [
      "pwd"
     ],
     "language": "python",
     "metadata": {},
     "outputs": [
      {
       "metadata": {},
       "output_type": "pyout",
       "prompt_number": 2,
       "text": [
        "u'/Users/sternc1/src/choderalab/exacycleGPCR/analysis'"
       ]
      }
     ],
     "prompt_number": 2
    },
    {
     "cell_type": "code",
     "collapsed": false,
     "input": [
      "cd .."
     ],
     "language": "python",
     "metadata": {},
     "outputs": [
      {
       "output_type": "stream",
       "stream": "stdout",
       "text": [
        "/Users/sternc1/src/choderalab/exacycleGPCR\n"
       ]
      }
     ],
     "prompt_number": 30
    },
    {
     "cell_type": "code",
     "collapsed": false,
     "input": [
      "mkdir inverse_agonist_b2ar_processed"
     ],
     "language": "python",
     "metadata": {},
     "outputs": [],
     "prompt_number": 32
    },
    {
     "cell_type": "code",
     "collapsed": false,
     "input": [
      "cd ../inverse_agonist_b2ar_trajectories/"
     ],
     "language": "python",
     "metadata": {},
     "outputs": [
      {
       "output_type": "stream",
       "stream": "stdout",
       "text": [
        "/Users/sternc1/src/choderalab/exacycleGPCR/inverse_agonist_b2ar_trajectories\n"
       ]
      }
     ],
     "prompt_number": 3
    },
    {
     "cell_type": "code",
     "collapsed": false,
     "input": [
      "INVERSE_AGONIST_B2AR = glob(os.path.expanduser('trj*'))"
     ],
     "language": "python",
     "metadata": {},
     "outputs": [],
     "prompt_number": 4
    },
    {
     "cell_type": "code",
     "collapsed": false,
     "input": [
      "l3=[]\n",
      "\n",
      "for k in enumerate(INVERSE_AGONIST_B2AR):\n",
      "    f=md.open(k[1])\n",
      "    l3.append(len(f))\n",
      "    f.close()"
     ],
     "language": "python",
     "metadata": {},
     "outputs": [],
     "prompt_number": 5
    },
    {
     "cell_type": "code",
     "collapsed": false,
     "input": [
      "len(l3)"
     ],
     "language": "python",
     "metadata": {},
     "outputs": [
      {
       "metadata": {},
       "output_type": "pyout",
       "prompt_number": 6,
       "text": [
        "34639"
       ]
      }
     ],
     "prompt_number": 6
    },
    {
     "cell_type": "code",
     "collapsed": false,
     "input": [
      "plt.hist(l3,bins=50)"
     ],
     "language": "python",
     "metadata": {},
     "outputs": [
      {
       "metadata": {},
       "output_type": "pyout",
       "prompt_number": 8,
       "text": [
        "(array([  2.00000000e+00,   9.00000000e+00,   3.60000000e+01,\n",
        "          0.00000000e+00,   3.20000000e+01,   1.00000000e+01,\n",
        "          3.00000000e+00,   0.00000000e+00,   4.00000000e+00,\n",
        "          1.00000000e+00,   6.00000000e+00,   0.00000000e+00,\n",
        "          9.00000000e+00,   2.90000000e+01,   4.10000000e+01,\n",
        "          0.00000000e+00,   1.05000000e+02,   1.92000000e+02,\n",
        "          3.16000000e+02,   0.00000000e+00,   4.94000000e+02,\n",
        "          7.62000000e+02,   1.02200000e+03,   0.00000000e+00,\n",
        "          1.33100000e+03,   1.75600000e+03,   0.00000000e+00,\n",
        "          2.17000000e+03,   2.95100000e+03,   3.44100000e+03,\n",
        "          0.00000000e+00,   3.95600000e+03,   3.94500000e+03,\n",
        "          3.38900000e+03,   0.00000000e+00,   2.38400000e+03,\n",
        "          1.73000000e+03,   1.30600000e+03,   0.00000000e+00,\n",
        "          1.03800000e+03,   8.57000000e+02,   5.88000000e+02,\n",
        "          0.00000000e+00,   3.84000000e+02,   2.19000000e+02,\n",
        "          9.00000000e+01,   0.00000000e+00,   2.60000000e+01,\n",
        "          4.00000000e+00,   1.00000000e+00]),\n",
        " array([  3.  ,   3.74,   4.48,   5.22,   5.96,   6.7 ,   7.44,   8.18,\n",
        "          8.92,   9.66,  10.4 ,  11.14,  11.88,  12.62,  13.36,  14.1 ,\n",
        "         14.84,  15.58,  16.32,  17.06,  17.8 ,  18.54,  19.28,  20.02,\n",
        "         20.76,  21.5 ,  22.24,  22.98,  23.72,  24.46,  25.2 ,  25.94,\n",
        "         26.68,  27.42,  28.16,  28.9 ,  29.64,  30.38,  31.12,  31.86,\n",
        "         32.6 ,  33.34,  34.08,  34.82,  35.56,  36.3 ,  37.04,  37.78,\n",
        "         38.52,  39.26,  40.  ]),\n",
        " <a list of 50 Patch objects>)"
       ]
      },
      {
       "metadata": {},
       "output_type": "display_data",
       "png": "[encoded data removed]",
       "text": [
        "<matplotlib.figure.Figure at 0x104568ad0>"
       ]
      }
     ],
     "prompt_number": 8
    },
    {
     "cell_type": "code",
     "collapsed": false,
     "input": [
      "cd inverse_agonist_b2ar_trajectories/"
     ],
     "language": "python",
     "metadata": {},
     "outputs": [
      {
       "output_type": "stream",
       "stream": "stdout",
       "text": [
        "/Users/sternc1/src/choderalab/exacycleGPCR/inverse_agonist_b2ar_trajectories\n"
       ]
      }
     ],
     "prompt_number": 11
    },
    {
     "cell_type": "code",
     "collapsed": false,
     "input": [
      "sym3=[]\n",
      "for k in enumerate(l3):\n",
      "    if k[1] > 20:\n",
      "        os.symlink(INVERSE_AGONIST_B2AR[k[0]], '../inverse_agonist_b2ar_processed/%s' %INVERSE_AGONIST_B2AR[k[0]])\n",
      "        sym3.append(k[1])"
     ],
     "language": "python",
     "metadata": {},
     "outputs": [],
     "prompt_number": 13
    },
    {
     "cell_type": "code",
     "collapsed": false,
     "input": [
      "plt.hist(sym3, bins=50)"
     ],
     "language": "python",
     "metadata": {},
     "outputs": [
      {
       "metadata": {},
       "output_type": "pyout",
       "prompt_number": 14,
       "text": [
        "(array([  1.33100000e+03,   0.00000000e+00,   1.75600000e+03,\n",
        "          0.00000000e+00,   0.00000000e+00,   2.17000000e+03,\n",
        "          0.00000000e+00,   2.95100000e+03,   0.00000000e+00,\n",
        "          0.00000000e+00,   3.44100000e+03,   0.00000000e+00,\n",
        "          0.00000000e+00,   3.95600000e+03,   0.00000000e+00,\n",
        "          3.94500000e+03,   0.00000000e+00,   0.00000000e+00,\n",
        "          3.38900000e+03,   0.00000000e+00,   0.00000000e+00,\n",
        "          2.38400000e+03,   0.00000000e+00,   1.73000000e+03,\n",
        "          0.00000000e+00,   0.00000000e+00,   1.30600000e+03,\n",
        "          0.00000000e+00,   1.03800000e+03,   0.00000000e+00,\n",
        "          0.00000000e+00,   8.57000000e+02,   0.00000000e+00,\n",
        "          0.00000000e+00,   5.88000000e+02,   0.00000000e+00,\n",
        "          3.84000000e+02,   0.00000000e+00,   0.00000000e+00,\n",
        "          2.19000000e+02,   0.00000000e+00,   0.00000000e+00,\n",
        "          9.00000000e+01,   0.00000000e+00,   2.60000000e+01,\n",
        "          0.00000000e+00,   0.00000000e+00,   4.00000000e+00,\n",
        "          0.00000000e+00,   1.00000000e+00]),\n",
        " array([ 21.  ,  21.38,  21.76,  22.14,  22.52,  22.9 ,  23.28,  23.66,\n",
        "         24.04,  24.42,  24.8 ,  25.18,  25.56,  25.94,  26.32,  26.7 ,\n",
        "         27.08,  27.46,  27.84,  28.22,  28.6 ,  28.98,  29.36,  29.74,\n",
        "         30.12,  30.5 ,  30.88,  31.26,  31.64,  32.02,  32.4 ,  32.78,\n",
        "         33.16,  33.54,  33.92,  34.3 ,  34.68,  35.06,  35.44,  35.82,\n",
        "         36.2 ,  36.58,  36.96,  37.34,  37.72,  38.1 ,  38.48,  38.86,\n",
        "         39.24,  39.62,  40.  ]),\n",
        " <a list of 50 Patch objects>)"
       ]
      },
      {
       "metadata": {},
       "output_type": "display_data",
       "png": "[encoded data removed]",
       "text": [
        "<matplotlib.figure.Figure at 0x106e71110>"
       ]
      }
     ],
     "prompt_number": 14
    },
    {
     "cell_type": "code",
     "collapsed": false,
     "input": [
      "len(sym3)"
     ],
     "language": "python",
     "metadata": {},
     "outputs": [
      {
       "metadata": {},
       "output_type": "pyout",
       "prompt_number": 15,
       "text": [
        "31566"
       ]
      }
     ],
     "prompt_number": 15
    },
    {
     "cell_type": "code",
     "collapsed": false,
     "input": [],
     "language": "python",
     "metadata": {},
     "outputs": []
    }
   ],
   "metadata": {}
  }
 ]
}