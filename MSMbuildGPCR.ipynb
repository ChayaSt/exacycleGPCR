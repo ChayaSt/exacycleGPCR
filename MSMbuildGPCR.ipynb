{
 "metadata": {
  "name": "",
  "signature": "sha256:44c28ea296e1d593bf62882188820c2297c06f531a1112f5d651ceb58e6e84be"
 },
 "nbformat": 3,
 "nbformat_minor": 0,
 "worksheets": [
  {
   "cells": [
    {
     "cell_type": "code",
     "collapsed": false,
     "input": [
      "%matplotlib inline\n",
      "from matplotlib.pyplot import * \n",
      "import mdtraj as md\n",
      "import numpy as np\n",
      "import pandas as pd\n",
      "import os\n",
      "from glob import glob\n",
      "from mixtape.cluster import Ward\n",
      "from mixtape.markovstatemodel import MarkovStateModel\n",
      "from sklearn.pipeline import Pipeline"
     ],
     "language": "python",
     "metadata": {},
     "outputs": [],
     "prompt_number": 1
    },
    {
     "cell_type": "code",
     "collapsed": false,
     "input": [
      "APO_B2AR = glob(os.path.expanduser('/Volumes/MyPassport/exacycleGPCR/dcd_trajectories/apo_b2ar/trj111*'))\n",
      "PDB=('/Volumes/MyPassport/exacycleGPCR/GPCR_NatureChemistry/reference-structures/apo_snapshot.pdb')\n",
      "tref=md.load('/Volumes/MyPassport/exacycleGPCR/dcd_trajectories/apo_b2ar/trj0.lh5.dcd', top = PDB)\n",
      "dataset=[]\n",
      "for traj in APO_B2AR:\n",
      "    t = md.load(traj, top=PDB)\n",
      "    dataset.append(md.rmsd(t,tref,0))\n",
      "\n",
      "datareshape=[]\n",
      "for i in range (len(dataset)):\n",
      "    datareshape.append(np.reshape(dataset[i],(len(dataset[i]),1)))"
     ],
     "language": "python",
     "metadata": {},
     "outputs": [],
     "prompt_number": 2
    },
    {
     "cell_type": "code",
     "collapsed": false,
     "input": [
      "lag_times = range(1,6)\n",
      "n_states=[4,8,16,32]\n",
      "msmts0={}\n",
      "msmts1={}\n",
      "ward = Ward(compute_full_tree=True)        "
     ],
     "language": "python",
     "metadata": {},
     "outputs": [],
     "prompt_number": 5
    },
    {
     "cell_type": "code",
     "collapsed": false,
     "input": [
      "for n in n_states:\n",
      "    msmts0[n]=[]\n",
      "    msmts1[n]=[]\n",
      "    for lag_time in lag_times:\n",
      "        strided_data=[s[i::lag_time] for s in datareshape for i in range(lag_time)]\n",
      "        pipeline=Pipeline([('cluster', ward.set_params(n_clusters=n)),('msm',MarkovStateModel(lag_time=lag_time))])\n",
      "        pipeline.fit(strided_data)\n",
      "        timescales=pipeline.steps[1][1].timescales_ * lag_time\n",
      "        msmts0[n].append(timescales[0])\n",
      "        msmts1[n].append(timescales[1])\n",
      "        print('n_states=%d\\tlag_time=%d\\ttimescales=%s' % (n, lag_time, timescales))"
     ],
     "language": "python",
     "metadata": {},
     "outputs": [
      {
       "output_type": "stream",
       "stream": "stdout",
       "text": [
        "MSM contains 1 strongly connected component above weight=1.00. Component 0 selected, with population 100.000000%\n",
        "n_states=4\tlag_time=1\ttimescales=[ 3.50475509  2.16266572  0.88190058]\n",
        "MSM contains 1 strongly connected component above weight=1.00. Component 0 selected, with population 100.000000%"
       ]
      },
      {
       "output_type": "stream",
       "stream": "stdout",
       "text": [
        "\n",
        "n_states=4\tlag_time=2\ttimescales=[ 11.81493971   6.92222324   2.75495458]\n",
        "MSM contains 1 strongly connected component above weight=1.00. Component 0 selected, with population 100.000000%"
       ]
      },
      {
       "output_type": "stream",
       "stream": "stdout",
       "text": [
        "\n",
        "n_states=4\tlag_time=3\ttimescales=[ 23.3130515   11.74799335   4.42728488]\n",
        "MSM contains 1 strongly connected component above weight=1.00. Component 0 selected, with population 100.000000%"
       ]
      },
      {
       "output_type": "stream",
       "stream": "stdout",
       "text": [
        "\n",
        "n_states=4\tlag_time=4\ttimescales=[ 40.13508492  17.32913497   7.22829175]\n",
        "MSM contains 2 strongly connected components above weight=1.00. Component 1 selected, with population 97.727273%"
       ]
      },
      {
       "output_type": "stream",
       "stream": "stdout",
       "text": [
        "\n",
        "n_states=4\tlag_time=5\ttimescales=[ 27.43987371  11.77438673]\n",
        "MSM contains 1 strongly connected component above weight=1.00. Component 0 selected, with population 100.000000%"
       ]
      },
      {
       "output_type": "stream",
       "stream": "stdout",
       "text": [
        "\n",
        "n_states=8\tlag_time=1\ttimescales=[ 5.41321067  2.95717839  1.58319669  0.9875008   0.5942951   0.37290855\n",
        "  0.29905407]\n",
        "MSM contains 1 strongly connected component above weight=1.00. Component 0 selected, with population 100.000000%"
       ]
      },
      {
       "output_type": "stream",
       "stream": "stdout",
       "text": [
        "\n",
        "n_states=8\tlag_time=2\ttimescales=[ 16.01844676   8.7500411    4.69003357   2.87938193   1.73631658\n",
        "          nan          nan]\n",
        "MSM contains 1 strongly connected component above weight=1.00. Component 0 selected, with population 100.000000%"
       ]
      },
      {
       "output_type": "stream",
       "stream": "stdout",
       "text": [
        "\n",
        "n_states=8\tlag_time=3\ttimescales=[ 27.88165202  14.76830777   8.0277375    4.7240326    2.48655356\n",
        "          nan          nan]\n",
        "MSM contains 1 strongly connected component above weight=1.00. Component 0 selected, with population 100.000000%"
       ]
      },
      {
       "output_type": "stream",
       "stream": "stdout",
       "text": [
        "\n",
        "n_states=8\tlag_time=4\ttimescales=[ 45.10739441  23.3341219   13.61456832   7.04276344   3.176345\n",
        "          nan          nan]\n",
        "MSM contains 2 strongly connected components above weight=1.00. Component 1 selected, with population 97.727273%"
       ]
      },
      {
       "output_type": "stream",
       "stream": "stdout",
       "text": [
        "\n",
        "n_states=8\tlag_time=5\ttimescales=[ 41.25819485  18.62892911  12.81205422          nan          nan\n",
        "          nan]\n",
        "MSM contains 1 strongly connected component above weight=1.00. Component 0 selected, with population 100.000000%"
       ]
      },
      {
       "output_type": "stream",
       "stream": "stdout",
       "text": [
        "\n",
        "n_states=16\tlag_time=1\ttimescales=[ 6.83595449  4.685262    2.79773254  1.76146398  1.18189264  0.83419587\n",
        "  0.61074559  0.43477496  0.32867446  0.32195753]\n",
        "MSM contains 1 strongly connected component above weight=1.00. Component 0 selected, with population 100.000000%"
       ]
      },
      {
       "output_type": "stream",
       "stream": "stdout",
       "text": [
        "\n",
        "n_states=16\tlag_time=2\ttimescales=[ 18.03594109  11.53228042   6.79844851   4.43100474   3.09103549\n",
        "   2.20365847   1.7902032    1.60768136   1.28754411   1.15032894]\n",
        "MSM contains 1 strongly connected component above weight=1.00. Component 0 selected, with population 100.000000%"
       ]
      },
      {
       "output_type": "stream",
       "stream": "stdout",
       "text": [
        "\n",
        "n_states=16\tlag_time=3\ttimescales=[ 30.25698753  20.75340191  11.55336869   6.79979298   5.31693341\n",
        "   4.45032695   3.36813779   3.13175041   2.51738821   2.1858339 ]\n",
        "MSM contains 1 strongly connected component above weight=1.00. Component 0 selected, with population 100.000000%"
       ]
      },
      {
       "output_type": "stream",
       "stream": "stdout",
       "text": [
        "\n",
        "n_states=16\tlag_time=4\ttimescales=[ 46.68282238  27.45067727  15.47836802   8.52846279   7.28084822\n",
        "   5.09774071   4.82648518   4.59843727   3.57654662          nan]\n",
        "MSM contains 5 strongly connected components above weight=1.00. Component 4 selected, with population 92.727273%"
       ]
      },
      {
       "output_type": "stream",
       "stream": "stdout",
       "text": [
        "\n",
        "n_states=16\tlag_time=5\ttimescales=[ 27.95768491  18.27656933  16.92064591  15.63376184  13.00502067\n",
        "   9.20375063   5.22124939          nan          nan          nan]\n",
        "MSM contains 1 strongly connected component above weight=1.00. Component 0 selected, with population 100.000000%"
       ]
      },
      {
       "output_type": "stream",
       "stream": "stdout",
       "text": [
        "\n",
        "n_states=32\tlag_time=1\ttimescales=[ 7.88327898  5.7892387   3.31442939  2.08690773  1.33282162  1.00698936\n",
        "  0.72900446  0.54414717  0.52590922  0.49744837]\n",
        "MSM contains 1 strongly connected component above weight=1.00. Component 0 selected, with population 100.000000%"
       ]
      },
      {
       "output_type": "stream",
       "stream": "stdout",
       "text": [
        "\n",
        "n_states=32\tlag_time=2\ttimescales=[ 19.83965249  13.06774901   7.70224695   4.90559155   3.34700354\n",
        "   2.69471713   2.05638179   1.81559087   1.71367129   1.6648749 ]\n",
        "MSM contains 1 strongly connected component above weight=1.00. Component 0 selected, with population 100.000000%"
       ]
      },
      {
       "output_type": "stream",
       "stream": "stdout",
       "text": [
        "\n",
        "n_states=32\tlag_time=3\ttimescales=[ 33.84255352  25.59280671  12.39288977   7.09199631   5.8643629\n",
        "   5.52706519   4.44506681   4.25506112   4.02147444   3.73221603]\n",
        "MSM contains 2 strongly connected components above weight=1.00. Component 1 selected, with population 99.831791%"
       ]
      },
      {
       "output_type": "stream",
       "stream": "stdout",
       "text": [
        "\n",
        "n_states=32\tlag_time=4\ttimescales=[ 51.2405812   40.01359904  18.83205951  14.65576428  10.16954356\n",
        "   9.51340883   8.52412311   7.44431137   6.83007343   6.25196766]\n",
        "MSM contains 12 strongly connected components above weight=1.00. Component 7 selected, with population 92.727273%"
       ]
      },
      {
       "output_type": "stream",
       "stream": "stdout",
       "text": [
        "\n",
        "n_states=32\tlag_time=5\ttimescales=[ 49.81314566  32.50734967  25.94854528  22.26552512  17.24141513\n",
        "  15.75889578  13.30380618  11.5932188    9.69096064   7.63775347]\n"
       ]
      }
     ],
     "prompt_number": 7
    },
    {
     "cell_type": "code",
     "collapsed": false,
     "input": [
      "figure(figsize=(14,3))\n",
      "\n",
      "for i, n in enumerate(n_states):\n",
      "    subplot(1,len(n_states),1+i)\n",
      "    plot(lag_times, msmts0[n])\n",
      "    plot(lag_times, msmts1[n])\n",
      "    ylim(0, 60)\n",
      "    if i == 0:\n",
      "        ylabel('Relaxation Timescale')\n",
      "    xlabel('Lag Time')\n",
      "    title('%d states' % n)\n",
      "\n",
      "show()"
     ],
     "language": "python",
     "metadata": {},
     "outputs": [
      {
       "metadata": {},
       "output_type": "display_data",
       "png": "[encoded data removed]",
       "text": [
        "<matplotlib.figure.Figure at 0x1096681d0>"
       ]
      }
     ],
     "prompt_number": 8
    },
    {
     "cell_type": "code",
     "collapsed": false,
     "input": [
      "top = md.load_pdb('GPCR_NatureChemistry/reference-structures/apo_snapshot.pdb')\n",
      "table, bonds = top.topology.to_dataframe()\n",
      "atom_pairs = [table[(table['resSeq'].isin([131,272])) & (table['name']=='CA')].index.tolist()]\n",
      "print atom_pairs"
     ],
     "language": "python",
     "metadata": {},
     "outputs": [
      {
       "output_type": "stream",
       "stream": "stdout",
       "text": [
        "[[766, 1588]]\n"
       ]
      }
     ],
     "prompt_number": 11
    },
    {
     "cell_type": "code",
     "collapsed": false,
     "input": [],
     "language": "python",
     "metadata": {},
     "outputs": []
    }
   ],
   "metadata": {}
  }
 ]
}